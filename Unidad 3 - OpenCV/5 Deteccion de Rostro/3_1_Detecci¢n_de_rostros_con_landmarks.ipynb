{
 "cells": [
  {
   "cell_type": "code",
   "execution_count": null,
   "metadata": {
    "id": "kllXzB6eclDI"
   },
   "outputs": [],
   "source": [
    "import os\n",
    "if os.path.exists('rostro.jpg'):   \n",
    "    print ('La carpeta ya existe')\n",
    "else:\n",
    "    os.system('wget https://i.pinimg.com/originals/ab/a6/b7/aba6b78084ef383d533a89a1143fa277.jpg')\n",
    "    os.system('wget http://dlib.net/files/shape_predictor_68_face_landmarks.dat.bz2')\n",
    "    os.system('mv aba6b78084ef383d533a89a1143fa277.jpg rostro.jpg')    \n",
    "    print('ImAgenes descargadas')"
   ]
  },
  {
   "cell_type": "code",
   "execution_count": 1,
   "metadata": {
    "id": "D3MeVoma5mWp"
   },
   "outputs": [
    {
     "name": "stderr",
     "output_type": "stream",
     "text": [
      "\"bzip2\" no se reconoce como un comando interno o externo,\n",
      "programa o archivo por lotes ejecutable.\n"
     ]
    }
   ],
   "source": [
    "!bzip2 -dk shape*.bz2"
   ]
  },
  {
   "cell_type": "code",
   "execution_count": 2,
   "metadata": {
    "id": "VPvHvzxLqOWe"
   },
   "outputs": [
    {
     "ename": "ModuleNotFoundError",
     "evalue": "No module named 'imutils'",
     "output_type": "error",
     "traceback": [
      "\u001b[1;31m---------------------------------------------------------------------------\u001b[0m",
      "\u001b[1;31mModuleNotFoundError\u001b[0m                       Traceback (most recent call last)",
      "\u001b[1;32m<ipython-input-2-65cbb1e7ce20>\u001b[0m in \u001b[0;36m<module>\u001b[1;34m\u001b[0m\n\u001b[1;32m----> 1\u001b[1;33m \u001b[1;32mfrom\u001b[0m \u001b[0mimutils\u001b[0m \u001b[1;32mimport\u001b[0m \u001b[0mface_utils\u001b[0m\u001b[1;33m\u001b[0m\u001b[1;33m\u001b[0m\u001b[0m\n\u001b[0m\u001b[0;32m      2\u001b[0m \u001b[1;32mimport\u001b[0m \u001b[0mmatplotlib\u001b[0m\u001b[1;33m.\u001b[0m\u001b[0mpyplot\u001b[0m \u001b[1;32mas\u001b[0m \u001b[0mplt\u001b[0m\u001b[1;33m\u001b[0m\u001b[1;33m\u001b[0m\u001b[0m\n\u001b[0;32m      3\u001b[0m \u001b[1;32mimport\u001b[0m \u001b[0mnumpy\u001b[0m \u001b[1;32mas\u001b[0m \u001b[0mnp\u001b[0m\u001b[1;33m\u001b[0m\u001b[1;33m\u001b[0m\u001b[0m\n\u001b[0;32m      4\u001b[0m \u001b[1;32mimport\u001b[0m \u001b[0mimutils\u001b[0m\u001b[1;33m\u001b[0m\u001b[1;33m\u001b[0m\u001b[0m\n\u001b[0;32m      5\u001b[0m \u001b[1;32mimport\u001b[0m \u001b[0mdlib\u001b[0m\u001b[1;33m\u001b[0m\u001b[1;33m\u001b[0m\u001b[0m\n",
      "\u001b[1;31mModuleNotFoundError\u001b[0m: No module named 'imutils'"
     ]
    }
   ],
   "source": [
    "from imutils import face_utils\n",
    "import matplotlib.pyplot as plt\n",
    "import numpy as np\n",
    "import imutils\n",
    "import dlib\n",
    "import cv2"
   ]
  },
  {
   "cell_type": "code",
   "execution_count": null,
   "metadata": {
    "id": "aiHTuanFqmRC"
   },
   "outputs": [],
   "source": [
    "#Cargar el predictor\n",
    "PREDICTOR_PATH = \"shape_predictor_68_face_landmarks.dat\""
   ]
  },
  {
   "cell_type": "code",
   "execution_count": null,
   "metadata": {
    "id": "vYC8dy1dqrfI"
   },
   "outputs": [],
   "source": [
    "# Predictores\n",
    "detector = dlib.get_frontal_face_detector()\n",
    "predictor = dlib.shape_predictor(\"shape_predictor_68_face_landmarks.dat\")"
   ]
  },
  {
   "cell_type": "code",
   "execution_count": null,
   "metadata": {
    "id": "4CCUfeKvrgxN"
   },
   "outputs": [],
   "source": [
    "#cargar imagen\n",
    "ima=cv2.imread('rostro.jpg')\n",
    "ima=cv2.cvtColor(ima, cv2.COLOR_BGR2RGB)\n",
    "\n",
    "plt.figure(figsize=(10,9))\n",
    "plt.imshow(ima)\n",
    "plt.axis('off')"
   ]
  },
  {
   "cell_type": "code",
   "execution_count": null,
   "metadata": {
    "id": "4I_X7Um5tgqS"
   },
   "outputs": [],
   "source": [
    "#Pasar a escala de grises\n",
    "gray = cv2.cvtColor(ima, cv2.COLOR_BGR2GRAY)\n",
    "    \n",
    "plt.figure(figsize=(10,9))\n",
    "plt.imshow(gray, cmap='gray')\n",
    "plt.axis('off')"
   ]
  },
  {
   "cell_type": "code",
   "execution_count": null,
   "metadata": {
    "id": "zYnzsunbt6nL"
   },
   "outputs": [],
   "source": [
    "#Detección del rostro (o rostros si hay mas de uno)\n",
    "rects = detector(gray, 1)"
   ]
  },
  {
   "cell_type": "code",
   "execution_count": null,
   "metadata": {
    "id": "0KWOX48OuNie"
   },
   "outputs": [],
   "source": [
    "#Bucle para todas las caras\n",
    "for (i, rect) in enumerate(rects):\n",
    "  \n",
    "  #Predecir marcas (landmarks)\n",
    "  shape = predictor(gray, rect)\n",
    "  \n",
    "  #Pasar la prediccion a un arreglo de puntos\n",
    "  shape = np.array(face_utils.shape_to_np(shape))\n",
    "  \n",
    "  #Dibujar todos los puntos\n",
    "  for (x, y) in shape:\n",
    "    cv2.circle(ima, (x, y), 3, (0,255, 0), -1)"
   ]
  },
  {
   "cell_type": "code",
   "execution_count": null,
   "metadata": {
    "id": "GVWvjjq9_vVG"
   },
   "outputs": [],
   "source": [
    "np.shape(shape)"
   ]
  },
  {
   "cell_type": "markdown",
   "metadata": {
    "id": "J8MB1pb2Evs7"
   },
   "source": [
    "son 68 marcas en el rostro que se detectan y están distribuidas de la siguiente manera:\n",
    "```\n",
    "shape=shape[:17]   #Contorno del rostro\n",
    "shape=shape[17:22] #Ceja izquierda\n",
    "shape=shape[22:27] #Ceja derecha\n",
    "shape=shape[27:36] #Nariz\n",
    "shape=shape[36:42] #Ojos izquierdo\n",
    "shape=shape[42:48] #Ojo derecho\n",
    "shape=shape[48:55] #Labio superior externo\n",
    "shape=shape[55:60] #Labio inferior externo\n",
    "shape=shape[60:65] #Labio superior interno\n",
    "shape=shape[65:68] #Labio inferior interno \n",
    "```"
   ]
  },
  {
   "cell_type": "code",
   "execution_count": null,
   "metadata": {
    "id": "z1awfSbvvIPW"
   },
   "outputs": [],
   "source": [
    "plt.figure(figsize=(10,9))\n",
    "plt.imshow(ima)\n",
    "plt.axis('off')"
   ]
  },
  {
   "cell_type": "code",
   "execution_count": null,
   "metadata": {
    "id": "nD6Wpo8JDZGj"
   },
   "outputs": [],
   "source": []
  }
 ],
 "metadata": {
  "colab": {
   "collapsed_sections": [],
   "name": "3_1_Detecci¢n_de_rostros_con_landmarks.ipynb",
   "provenance": []
  },
  "kernelspec": {
   "display_name": "Python 3",
   "language": "python",
   "name": "python3"
  },
  "language_info": {
   "codemirror_mode": {
    "name": "ipython",
    "version": 3
   },
   "file_extension": ".py",
   "mimetype": "text/x-python",
   "name": "python",
   "nbconvert_exporter": "python",
   "pygments_lexer": "ipython3",
   "version": "3.7.6"
  }
 },
 "nbformat": 4,
 "nbformat_minor": 1
}
