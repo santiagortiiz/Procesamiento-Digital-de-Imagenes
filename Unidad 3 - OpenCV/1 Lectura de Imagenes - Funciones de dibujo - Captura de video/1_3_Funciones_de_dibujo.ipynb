{
 "cells": [
  {
   "cell_type": "markdown",
   "metadata": {
    "id": "koXJMARip5tE"
   },
   "source": [
    "### Cargar librerías"
   ]
  },
  {
   "cell_type": "code",
   "execution_count": 2,
   "metadata": {
    "executionInfo": {
     "elapsed": 1177,
     "status": "ok",
     "timestamp": 1605018069892,
     "user": {
      "displayName": "JOHN FREDY OCHOA GOMEZ",
      "photoUrl": "",
      "userId": "07628567458483702874"
     },
     "user_tz": 300
    },
    "id": "lukXpyqmp5tF"
   },
   "outputs": [],
   "source": [
    "import cv2\n",
    "import numpy as np\n",
    "import matplotlib.pyplot as plt"
   ]
  },
  {
   "cell_type": "markdown",
   "metadata": {
    "id": "bcLufC-8p5tI"
   },
   "source": [
    "### Crear una imagen de zeros\n",
    "Argumento de la funcion np.zeros((filas, columnas, canales), tipo)"
   ]
  },
  {
   "cell_type": "code",
   "execution_count": 2,
   "metadata": {
    "colab": {
     "base_uri": "https://localhost:8080/",
     "height": 286
    },
    "executionInfo": {
     "elapsed": 528,
     "status": "ok",
     "timestamp": 1605018072928,
     "user": {
      "displayName": "JOHN FREDY OCHOA GOMEZ",
      "photoUrl": "",
      "userId": "07628567458483702874"
     },
     "user_tz": 300
    },
    "id": "F6-p7J8Tp5tI",
    "outputId": "25e0c9c6-5314-4b01-b390-8bb413d83713"
   },
   "outputs": [
    {
     "data": {
      "text/plain": [
       "(-0.5, 511.5, 511.5, -0.5)"
      ]
     },
     "execution_count": 2,
     "metadata": {},
     "output_type": "execute_result"
    },
    {
     "data": {
      "image/png": "[encoded data removed]",
      "text/plain": [
       "<Figure size 432x288 with 1 Axes>"
      ]
     },
     "metadata": {
      "needs_background": "light"
     },
     "output_type": "display_data"
    }
   ],
   "source": [
    "img = np.zeros((512,512,3), np.uint8)\n",
    "\n",
    "#mostrar imagen creada\n",
    "plt.imshow(img)\n",
    "plt.axis('off')"
   ]
  },
  {
   "cell_type": "markdown",
   "metadata": {
    "id": "T_Lta6Uzp5tN"
   },
   "source": [
    "### Dibujar una línea\n",
    "Argumentos de la función\n",
    "\n",
    "cv2.line(Imagen, PuntoInicial, PuntoFinal, Color, Ancho)"
   ]
  },
  {
   "cell_type": "code",
   "execution_count": 3,
   "metadata": {
    "colab": {
     "base_uri": "https://localhost:8080/",
     "height": 286
    },
    "executionInfo": {
     "elapsed": 515,
     "status": "ok",
     "timestamp": 1605018101218,
     "user": {
      "displayName": "JOHN FREDY OCHOA GOMEZ",
      "photoUrl": "",
      "userId": "07628567458483702874"
     },
     "user_tz": 300
    },
    "id": "lO3HwdgGp5tO",
    "outputId": "94c35968-749a-4645-a3af-80ffb7e3261e"
   },
   "outputs": [
    {
     "data": {
      "text/plain": [
       "(-0.5, 511.5, 511.5, -0.5)"
      ]
     },
     "execution_count": 3,
     "metadata": {},
     "output_type": "execute_result"
    },
    {
     "data": {
      "image/png": "[encoded data removed]",
      "text/plain": [
       "<Figure size 432x288 with 1 Axes>"
      ]
     },
     "metadata": {
      "needs_background": "light"
     },
     "output_type": "display_data"
    }
   ],
   "source": [
    "img = cv2.line(img,(0,0),(511,255),(0,255,0),4)\n",
    "\n",
    "#mostrar imagen creada\n",
    "plt.imshow(img)\n",
    "plt.axis('off')"
   ]
  },
  {
   "cell_type": "markdown",
   "metadata": {
    "id": "bwfAkUgjp5tQ"
   },
   "source": [
    "### Dibujar un rectangulo\n",
    "Argumentos de la función\n",
    "\n",
    "cv2.rectangle(Imagen, PuntoInicial, PuntoFinal, Color, Ancho)\n",
    "\n",
    "Nota: Si el ancho es negativo la figura se rellena, de lo contrario solo se dibuja el contorno"
   ]
  },
  {
   "cell_type": "code",
   "execution_count": 4,
   "metadata": {
    "colab": {
     "base_uri": "https://localhost:8080/",
     "height": 286
    },
    "executionInfo": {
     "elapsed": 658,
     "status": "ok",
     "timestamp": 1605018129165,
     "user": {
      "displayName": "JOHN FREDY OCHOA GOMEZ",
      "photoUrl": "",
      "userId": "07628567458483702874"
     },
     "user_tz": 300
    },
    "id": "OhQ0DdY4p5tQ",
    "outputId": "ffc96cc6-ea03-4852-e17c-8a253589b679"
   },
   "outputs": [
    {
     "data": {
      "text/plain": [
       "(-0.5, 511.5, 511.5, -0.5)"
      ]
     },
     "execution_count": 4,
     "metadata": {
      "tags": []
     },
     "output_type": "execute_result"
    },
    {
     "data": {
      "image/png": "[encoded data removed]",
      "text/plain": [
       "<Figure size 432x288 with 1 Axes>"
      ]
     },
     "metadata": {
      "needs_background": "light",
      "tags": []
     },
     "output_type": "display_data"
    }
   ],
   "source": [
    "img = cv2.rectangle(img,(300,500),(210,360),(255,0,0), 3)\n",
    "\n",
    "#mostrar imagen creada\n",
    "plt.imshow(img)\n",
    "plt.axis('off')"
   ]
  },
  {
   "cell_type": "markdown",
   "metadata": {
    "id": "ndlRqK4Qp5tS"
   },
   "source": [
    "### Dibujar un círculo\n",
    "Argumentos de la función\n",
    "\n",
    "cv2.circle(imagen, Centro, Radio, Color, Ancho)\n",
    "\n",
    "Nota: Si el ancho es negativo la figura se rellena, de lo contrario solo se dibuja el contorno"
   ]
  },
  {
   "cell_type": "code",
   "execution_count": 5,
   "metadata": {
    "colab": {
     "base_uri": "https://localhost:8080/",
     "height": 286
    },
    "executionInfo": {
     "elapsed": 535,
     "status": "ok",
     "timestamp": 1605018133219,
     "user": {
      "displayName": "JOHN FREDY OCHOA GOMEZ",
      "photoUrl": "",
      "userId": "07628567458483702874"
     },
     "user_tz": 300
    },
    "id": "uA2yCTcsp5tT",
    "outputId": "381147b6-f435-445a-cbfa-7c5f517973b7"
   },
   "outputs": [
    {
     "data": {
      "text/plain": [
       "(-0.5, 511.5, 511.5, -0.5)"
      ]
     },
     "execution_count": 5,
     "metadata": {
      "tags": []
     },
     "output_type": "execute_result"
    },
    {
     "data": {
      "image/png": "[encoded data removed]",
      "text/plain": [
       "<Figure size 432x288 with 1 Axes>"
      ]
     },
     "metadata": {
      "needs_background": "light",
      "tags": []
     },
     "output_type": "display_data"
    }
   ],
   "source": [
    "img = cv2.circle(img,(255,255), 100, (0,0,255), -1)\n",
    "\n",
    "#mostrar imagen creada\n",
    "plt.imshow(img)\n",
    "plt.axis('off')"
   ]
  },
  {
   "cell_type": "markdown",
   "metadata": {
    "id": "v4zGv43mp5tV"
   },
   "source": [
    "### Dibujar un elipse\n",
    "Argumentos de la función\n",
    "\n",
    "cv2.ellipse(Imagen, Centro, Eje, Angulo, AnguloIn, AnguloFin, Color, Ancho)\n",
    "\n",
    "Nota: Si el ancho es negativo la figura se rellena, de lo contrario solo se dibuja el contorno"
   ]
  },
  {
   "cell_type": "code",
   "execution_count": 6,
   "metadata": {
    "colab": {
     "base_uri": "https://localhost:8080/",
     "height": 286
    },
    "executionInfo": {
     "elapsed": 491,
     "status": "ok",
     "timestamp": 1605018141769,
     "user": {
      "displayName": "JOHN FREDY OCHOA GOMEZ",
      "photoUrl": "",
      "userId": "07628567458483702874"
     },
     "user_tz": 300
    },
    "id": "LvihRHNmp5tV",
    "outputId": "f09ebfb3-2951-4b47-eb19-577ec436c3ad"
   },
   "outputs": [
    {
     "data": {
      "text/plain": [
       "(-0.5, 511.5, 511.5, -0.5)"
      ]
     },
     "execution_count": 6,
     "metadata": {
      "tags": []
     },
     "output_type": "execute_result"
    },
    {
     "data": {
      "image/png": "[encoded data removed]",
      "text/plain": [
       "<Figure size 432x288 with 1 Axes>"
      ]
     },
     "metadata": {
      "needs_background": "light",
      "tags": []
     },
     "output_type": "display_data"
    }
   ],
   "source": [
    "img = cv2.ellipse(img,(255,105),(100,50),0,20,340,(255,0,255),-1)\n",
    "\n",
    "#mostrar imagen creada\n",
    "plt.imshow(img)\n",
    "plt.axis('off')"
   ]
  },
  {
   "cell_type": "markdown",
   "metadata": {
    "id": "5TMUcGBlp5tX"
   },
   "source": [
    "### Dibujar un polígono\n",
    "Argumentos de la función\n",
    "\n",
    "cv2.polylines(Imagen, VectorDePuntos, Booleano, Color, Ancho)\n",
    "\n",
    "Si el booleano es 'True' el poligono es cerrado, de lo contrario es abierto"
   ]
  },
  {
   "cell_type": "code",
   "execution_count": null,
   "metadata": {
    "colab": {
     "base_uri": "https://localhost:8080/",
     "height": 286
    },
    "id": "t6gXfosdp5tY",
    "outputId": "b3189fd7-fcca-44f8-9dfc-318c125d55ca"
   },
   "outputs": [
    {
     "data": {
      "text/plain": [
       "(-0.5, 511.5, 511.5, -0.5)"
      ]
     },
     "execution_count": 9,
     "metadata": {
      "tags": []
     },
     "output_type": "execute_result"
    },
    {
     "data": {
      "image/png": "[encoded data removed]",
      "text/plain": [
       "<Figure size 432x288 with 1 Axes>"
      ]
     },
     "metadata": {
      "needs_background": "light",
      "tags": []
     },
     "output_type": "display_data"
    }
   ],
   "source": [
    "pts = np.array([[180,120],[330,120],[255,140]], np.int32)\n",
    "img = cv2.polylines(img,[pts],True,(0,255,255),5)\n",
    "\n",
    "#mostrar imagen creada\n",
    "plt.imshow(img)\n",
    "plt.axis('off')"
   ]
  },
  {
   "cell_type": "markdown",
   "metadata": {
    "id": "yhXUaM75p5tc"
   },
   "source": [
    "### Dibujar texto\n",
    "Argumentos de la función\n",
    "\n",
    "cv2.putText(Imagen, 'Texto', Posición, Fuente, Tamaño,  Color, Ancho, TipoDeLinea)"
   ]
  },
  {
   "cell_type": "code",
   "execution_count": 7,
   "metadata": {
    "colab": {
     "base_uri": "https://localhost:8080/",
     "height": 286
    },
    "executionInfo": {
     "elapsed": 524,
     "status": "ok",
     "timestamp": 1605018150021,
     "user": {
      "displayName": "JOHN FREDY OCHOA GOMEZ",
      "photoUrl": "",
      "userId": "07628567458483702874"
     },
     "user_tz": 300
    },
    "id": "gsuqCIRSp5td",
    "outputId": "e881ba8e-e949-4e27-edb8-0eef2aa5f310"
   },
   "outputs": [
    {
     "data": {
      "text/plain": [
       "(-0.5, 511.5, 511.5, -0.5)"
      ]
     },
     "execution_count": 7,
     "metadata": {
      "tags": []
     },
     "output_type": "execute_result"
    },
    {
     "data": {
      "image/png": "[encoded data removed]",
      "text/plain": [
       "<Figure size 432x288 with 1 Axes>"
      ]
     },
     "metadata": {
      "needs_background": "light",
      "tags": []
     },
     "output_type": "display_data"
    }
   ],
   "source": [
    "cv2.putText(img,'OpenCV',(40,90), cv2.FONT_HERSHEY_SIMPLEX, 3,\n",
    "            (255,255,0),2,cv2.LINE_AA)\n",
    "\n",
    "#mostrar imagen creada\n",
    "plt.imshow(img)\n",
    "plt.axis('off')"
   ]
  },
  {
   "cell_type": "code",
   "execution_count": 58,
   "metadata": {},
   "outputs": [
    {
     "data": {
      "text/plain": [
       "<matplotlib.image.AxesImage at 0x1b35aacdeb0>"
      ]
     },
     "execution_count": 58,
     "metadata": {},
     "output_type": "execute_result"
    },
    {
     "data": {
      "image/png": "[encoded data removed]",
      "text/plain": [
       "<Figure size 432x288 with 1 Axes>"
      ]
     },
     "metadata": {
      "needs_background": "light"
     },
     "output_type": "display_data"
    }
   ],
   "source": [
    "img = np.ones((640,480), np.uint8)\n",
    "\n",
    "derecha = np.array([[400,0],[510,0],[512,200]], np.int32)\n",
    "\n",
    "img = cv2.polylines(img,[derecha],True,(0,0,0), 5)\n",
    "\n",
    "#mostrar imagen creada\n",
    "plt.imshow(img)"
   ]
  },
  {
   "cell_type": "markdown",
   "metadata": {},
   "source": [
    "##### "
   ]
  }
 ],
 "metadata": {
  "colab": {
   "name": "1_3_Funciones_de_dibujo.ipynb",
   "provenance": []
  },
  "kernelspec": {
   "display_name": "Python 3",
   "language": "python",
   "name": "python3"
  },
  "language_info": {
   "codemirror_mode": {
    "name": "ipython",
    "version": 3
   },
   "file_extension": ".py",
   "mimetype": "text/x-python",
   "name": "python",
   "nbconvert_exporter": "python",
   "pygments_lexer": "ipython3",
   "version": "3.8.5"
  }
 },
 "nbformat": 4,
 "nbformat_minor": 1
}
