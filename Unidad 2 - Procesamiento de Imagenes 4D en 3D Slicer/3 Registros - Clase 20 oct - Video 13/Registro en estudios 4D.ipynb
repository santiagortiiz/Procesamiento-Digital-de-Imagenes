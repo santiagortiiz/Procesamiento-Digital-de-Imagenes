{
 "cells": [
  {
   "cell_type": "markdown",
   "metadata": {},
   "source": [
    "# Clase 6/10/20 - Video 13\n",
    "\n",
    "# Material de clase\n",
    "- Estudios: CabezaLd_Epilepsia - 1 & CT250MM_4"
   ]
  },
  {
   "cell_type": "markdown",
   "metadata": {},
   "source": [
    "# Síntesis del Script"
   ]
  },
  {
   "cell_type": "code",
   "execution_count": null,
   "metadata": {},
   "outputs": [],
   "source": [
    "escena = slicer.mrmlScene                                  # Se recupera la escena\n",
    "volumen4D = escena.GetNodeByID('vtkMRMLMultiVolumeNode1')  # Se le solicita el estudio Multi-volumen a la escena\n",
    "imagenvtk4D = volumen4D.GetImageData()                     # Se recupera el objeto ImageData() que  \n",
    "                                                           # contiene los n estudios/volúmenes en el  tiempo\n",
    "\n",
    "numero_frames = volumen4D.GetNumberOfFrames()              # Recuperamos el numero de frames (cantidad de estudios en != tiempo)\n",
    "print('Frames: ' + str(numero_frames))                     # Cada estudio de los materiales, tiene alrededor de 70 Volúmenes\n",
    "\n",
    "# Dimensiones\n",
    "print(imagenvtk4D.GetBounds())                             # Obtenemos los rangos de las imagenes de los volumenes\n",
    "                                                           # aprox:  [250 x 250 x 128 x 71]\n",
    "\n",
    "# Filtro vtk para descomponer un volumen 4D\n",
    "extract1 = vtk.vtkImageExtractComponents()                 # Se instancia el objeto de clase vtkImageExtractComponents()\n",
    "extract1.SetInputData(imagenvtk4D)                         # y se le asigna la imagenvtk4D que contiene los volúmenes.\n",
    "\n",
    "# Matrices de transformacion\n",
    "ras2ijk = vtk.vtkMatrix4x4()                               # Se generan las matrices de transformacion vacias\n",
    "ijk2ras = vtk.vtkMatrix4x4()\n",
    "volumen4D.GetRASToIJKMatrix(ras2ijk)                       # Se solicita al estudio multivolumen sus matrices de Transf.\n",
    "volumen4D.GetIJKToRASMatrix(ijk2ras)\n",
    "volumenFijo = slicer.vtkMRMLScalarVolumeNode()             # Se crea un volumen nuevo que será el volumen fijo a registrar\n",
    "volumenFijo.SetRASToIJKMatrix(ras2ijk)                     # Se asignan las Matrices de transformacion del volumen inicial\n",
    "volumenFijo.SetIJKToRASMatrix(ijk2ras)\n",
    "\n",
    "# Le asigno el volumen 3D fijo\n",
    "imagen_fija = extract1.SetComponents(0)                    # Se solicita el Primer volumen extraido por el objeto extract1\n",
    "extract1.Update()\n",
    "\n",
    "volumenFijo.SetName('fijo')\n",
    "volumenFijo.SetAndObserveImageData(extract1.GetOutput())   # El Primer volumen extraido, se asigna al volumen fijo\n",
    "extract1.Update()\n",
    "escena.AddNode(volumenFijo)                                # Se añade el volumen generado a la escena\n",
    "\n",
    "# Extraigo la imagen movil\n",
    "imagen_movil = extract1.SetComponents(50)                  # Seleccionamos un volumen lejano\n",
    "extract1.Update()\n",
    "\n",
    "# Creo un volumen movil, y realizamos el mismo procedimiento que con el fijo\n",
    "volumenMovil = slicer.vtkMRMLScalarVolumeNode();           # Se crea el volumen movil\n",
    "volumenMovil.SetRASToIJKMatrix(ras2ijk)                    # Se asignan las mismas matrices de transformacion del vol. original\n",
    "volumenMovil.SetIJKToRASMatrix(ijk2ras)      \n",
    "volumenMovil.SetAndObserveImageData(extract1.GetOutput())  # La imagen del volumen 50 extraido, se asigna al volumen movil\n",
    "volumenMovil.SetName('movil')\n",
    "escena.AddNode(volumenMovil)                               # Se añade a la escena el volumen movil\n",
    "\n",
    "# Creamos la transformada para alinear los volumenes\n",
    "transformadaSalida = slicer.vtkMRMLLinearTransformNode()   # Se instancia un objeto de la clase vtkMRMLLinearTransformNode()\n",
    "transformadaSalida.SetName('Transformada de registro')     # Se nombra\n",
    "slicer.mrmlScene.AddNode(transformadaSalida)               # y se añade a la escena como un Nodo\n",
    "            \n",
    "# Parametros para la operacion de registro\n",
    "parameters = {}\n",
    "#parameters['InitialTransform'] = transI.GetID()           # Por si hay una transformación inicial\n",
    "parameters['fixedVolume'] = volumenFijo.GetID()\n",
    "parameters['movingVolume'] = volumenMovil.GetID()\n",
    "parameters['transformType'] = 'Rigid'\n",
    "parameters['outputTransform'] = transformadaSalida.GetID()\n",
    "\n",
    "cliNode = slicer.cli.run(slicer.modules.brainsfit,None,parameters, wait_for_completion=True)\n"
   ]
  },
  {
   "cell_type": "markdown",
   "metadata": {},
   "source": [
    "# Script Guiado"
   ]
  },
  {
   "cell_type": "markdown",
   "metadata": {},
   "source": [
    "### Adquisicion"
   ]
  },
  {
   "cell_type": "code",
   "execution_count": null,
   "metadata": {},
   "outputs": [],
   "source": [
    "escena = slicer.mrmlScene                                  # Se recupera la escena\n",
    "volumen4D = escena.GetNodeByID('vtkMRMLMultiVolumeNode1')  # Se le solicita el estudio Multi-volumen a la escena\n",
    "imagenvtk4D = volumen4D.GetImageData()                     # Se recupera el objeto ImageData() que  \n",
    "                                                           # contiene los n estudios/volúmenes en el  tiempo\n",
    "\n",
    "numero_imagenes = volumen4D.GetNumberOfFrames()            # Recuperamos el numero de volúmenes o estudios\n",
    "print('imagenes: ' + str(numero_imagenes))                 # Cada estudio de los materiales, tiene alrededor de 70 Volúmenes\n",
    "\n",
    "# Dimensiones\n",
    "print(imagenvtk4D.GetBounds())                             # Obtenemos los rangos de las imagenes de los volumenes\n",
    "                                                           # aprox:  [250 x 250 x 128 x 71]"
   ]
  },
  {
   "cell_type": "markdown",
   "metadata": {},
   "source": [
    "### Descomposicion del Estudio 4D usando vtk.vtkImageExtractComponents()"
   ]
  },
  {
   "cell_type": "code",
   "execution_count": null,
   "metadata": {},
   "outputs": [],
   "source": [
    "# Filtro vtk para descomponer un volumen 4D\n",
    "extract1 = vtk.vtkImageExtractComponents()                 # Se instancia el objeto de clase vtkImageExtractComponents()\n",
    "extract1.SetInputData(imagenvtk4D)                         # y se le asigna la imagenvtk4D que contiene los volúmenes.\n",
    "\n",
    "# Matrices de transformacion varias\n",
    "ras2ijk = vtk.vtkMatrix4x4()                               # Se generan las matrices de transformacion vacias\n",
    "ijk2ras = vtk.vtkMatrix4x4()\n",
    "volumen4D.GetRASToIJKMatrix(ras2ijk)                       # Se solicita al estudio multivolumen sus matrices de Transf.\n",
    "volumen4D.GetIJKToRASMatrix(ijk2ras)\n",
    "volumenFijo = slicer.vtkMRMLScalarVolumeNode()             # Se crea un volumen nuevo que será el volumen fijo a registrar\n",
    "volumenFijo.SetRASToIJKMatrix(ras2ijk)                     # Se asignan las Matrices de transformacion del volumen inicial\n",
    "volumenFijo.SetIJKToRASMatrix(ijk2ras)\n",
    "\n",
    "# Le asigno el volumen 3D fijo\n",
    "imagen_fija = extract1.SetComponents(0)                    # Se solicita el Primer volumen extraido por el objeto extract1\n",
    "extract1.Update()\n",
    "\n",
    "volumenFijo.SetName('fijo')\n",
    "volumenFijo.SetAndObserveImageData(extract1.GetOutput())   # La imagen del Primer volumen extraido, se asigna al volumen fijo\n",
    "extract1.Update()\n",
    "escena.AddNode(volumenFijo)                                # Se añade el volumen generado a la escena\n",
    "\n",
    "# Extraigo la imagen movil\n",
    "imagen_movil = extract1.SetComponents(50)                  # Seleccionamos un volumen lejano\n",
    "extract1.Update()\n",
    "\n",
    "# Creo un volumen movil, y realizamos el mismo procedimiento que con el fijo\n",
    "volumenMovil = slicer.vtkMRMLScalarVolumeNode();           # Se crea el volumen movil\n",
    "volumenMovil.SetRASToIJKMatrix(ras2ijk)                    # Se asignan las mismas matrices de transformacion del vol. original\n",
    "volumenMovil.SetIJKToRASMatrix(ijk2ras)      \n",
    "volumenMovil.SetAndObserveImageData(extract1.GetOutput())  # La imagen del volumen 50 extraido, se asigna al volumen movil\n",
    "volumenMovil.SetName('movil')\n",
    "escena.AddNode(volumenMovil) "
   ]
  },
  {
   "cell_type": "markdown",
   "metadata": {},
   "source": [
    "### Se crea la matriz de transformacion que usará el módulo de Registro (BRAINS)"
   ]
  },
  {
   "cell_type": "code",
   "execution_count": null,
   "metadata": {},
   "outputs": [],
   "source": [
    "# Creamos la transformada para alinear los volumenes\n",
    "transformadaSalida = slicer.vtkMRMLLinearTransformNode()   # Se instancia un objeto de la clase vtkMRMLLinearTransformNode()\n",
    "transformadaSalida.SetName('Transformada de registro')     # Se nombra\n",
    "slicer.mrmlScene.AddNode(transformadaSalida)               # y se añade a la escena como un Nodo"
   ]
  },
  {
   "cell_type": "markdown",
   "metadata": {},
   "source": [
    "### Se Recopilan los parámetros y se ejecuta el Módulo Brains usando Command Line Interface"
   ]
  },
  {
   "cell_type": "code",
   "execution_count": null,
   "metadata": {},
   "outputs": [],
   "source": [
    "# Parametros para la operacion de registro\n",
    "parameters = {}\n",
    "#parameters['InitialTransform'] = transI.GetID()           # Por si hay una transformación inicial\n",
    "parameters['fixedVolume'] = volumenFijo.GetID()\n",
    "parameters['movingVolume'] = volumenMovil.GetID()\n",
    "parameters['transformType'] = 'Rigid'\n",
    "parameters['outputTransform'] = transformadaSalida.GetID()\n",
    "\n",
    "cliNode = slicer.cli.run(slicer.modules.brainsfit,None,parameters, wait_for_completion=True)"
   ]
  }
 ],
 "metadata": {
  "kernelspec": {
   "display_name": "Python 3",
   "language": "python",
   "name": "python3"
  },
  "language_info": {
   "codemirror_mode": {
    "name": "ipython",
    "version": 3
   },
   "file_extension": ".py",
   "mimetype": "text/x-python",
   "name": "python",
   "nbconvert_exporter": "python",
   "pygments_lexer": "ipython3",
   "version": "3.7.6"
  }
 },
 "nbformat": 4,
 "nbformat_minor": 4
}
