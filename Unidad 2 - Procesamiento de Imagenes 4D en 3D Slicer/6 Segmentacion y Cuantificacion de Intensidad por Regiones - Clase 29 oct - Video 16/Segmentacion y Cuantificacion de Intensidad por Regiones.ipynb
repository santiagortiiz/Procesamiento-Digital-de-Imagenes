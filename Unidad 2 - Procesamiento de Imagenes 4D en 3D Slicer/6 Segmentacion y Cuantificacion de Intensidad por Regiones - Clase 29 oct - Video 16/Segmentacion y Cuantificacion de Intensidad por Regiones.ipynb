{
 "cells": [
  {
   "cell_type": "markdown",
   "metadata": {},
   "source": [
    "# Clase 29/10/20 - Video 16"
   ]
  },
  {
   "cell_type": "markdown",
   "metadata": {},
   "source": [
    "### Módulo de Segmentación por Crecimiento de Regiones "
   ]
  },
  {
   "cell_type": "code",
   "execution_count": null,
   "metadata": {},
   "outputs": [],
   "source": [
    "# Parametros para la operacion de registro\n",
    "parameters = {}\n",
    "\n",
    "# Parametros de la Ecuación Diferencial\n",
    "parameters['smoothingIterations'] = 5.0    # Iteraciones - Debido a que es basado en Ec. Diferenciales\n",
    "parameters['timestep'] = 0.0625            # Tamaño de paso para la solucion numérica de la Ec. Diferencial\n",
    "\n",
    "# Parámetros de Segmentación \n",
    "parameters['iterations'] = 5               # Cuantas veces se corre el filtro para ir añadiendo regiones\n",
    "parameters['multiplier'] = 2.5             # Rango de expansión de la Intensidad Promedio (Rango de similitud de los Voxeles)\n",
    "parameters['neighborhood'] = 1             # Cantidad de vecinos que se tendran en cuenta en el modelo\n",
    "parameters['labelvalue'] = 2               # Etiqueta asignada a la imagen nueva binaria (según el numero se da el color)\n",
    "\n",
    "fiducials = slicer.mrmlScene.GetNodeByID('vtkMRMLMarkupsFiducialNode1')\n",
    "parameters['seed'] = fiducials.GetID()     # Se tomara como semilla el Fiducial marcado\n",
    "\n",
    "volumen_entrada = slicer.mrmlScene.GetNodeByID('vtkMRMLScalarVolumeNode1')\n",
    "parameters['inputVolume'] = volumen_entrada.GetID()\n",
    "\n",
    "volumen_salida = slicer.vtkMRMLLabelMapVolumeNode()   # Se genera un Volumen de salida nuevo\n",
    "slicer.mrmlScene.AddNode(volumen_salida)              # Se añade como Nodo a la Escena\n",
    "parameters['outputVolume'] = volumen_salida.GetID()   # y se establece como parámetro del modelo\n",
    "\n",
    "cliModule = slicer.modules.simpleregiongrowingsegmentation\n",
    "cliNode = slicer.cli.run(cliModule,None,parameters,wait_for_completion=True)"
   ]
  },
  {
   "cell_type": "markdown",
   "metadata": {},
   "source": [
    "### Cuantificación de Intensidad Promedio de una Región\n",
    "Se multiplica en la imagen:                                                                                                 \n",
    "**(lo_que_esta_fuera_del_label x 0)**   ---> Esto *enmascara* la región de interés y promedio todos los Voxeles que permanecen dentro de la máscara"
   ]
  },
  {
   "cell_type": "code",
   "execution_count": null,
   "metadata": {},
   "outputs": [],
   "source": [
    "import numpy\n",
    "volumen = array('4D')                   # Recupero un arreglo del Slicer (vtkMRMLScalarVolumeNode) -> Se ve en el *módulo Data*\n",
    "etiqueta = array('LabelMapVolume')      # Recupero la etiqueta que tambien aparece en el *módulo Data*\n",
    "puntos  = numpy.where( etiqueta == 2 )  # Recupero los elementos dentro de la Etiqueta \n",
    "                                        # (Al lado Inferior Izquierdo, aparece como Peach = X al pasar el mouse sobre la imagen)\n",
    "datos  = volumen[puntos]                # Se solicitan los datos cuyo valor es != 0\n",
    "print(datos.mean())"
   ]
  }
 ],
 "metadata": {
  "kernelspec": {
   "display_name": "Python 3",
   "language": "python",
   "name": "python3"
  },
  "language_info": {
   "codemirror_mode": {
    "name": "ipython",
    "version": 3
   },
   "file_extension": ".py",
   "mimetype": "text/x-python",
   "name": "python",
   "nbconvert_exporter": "python",
   "pygments_lexer": "ipython3",
   "version": "3.7.6"
  }
 },
 "nbformat": 4,
 "nbformat_minor": 4
}
