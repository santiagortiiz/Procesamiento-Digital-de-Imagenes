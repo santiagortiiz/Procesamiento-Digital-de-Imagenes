{
 "cells": [
  {
   "cell_type": "markdown",
   "metadata": {},
   "source": [
    "# Clase del 6/10/2020 - Video 9\n",
    "- Material: Slicer4minute.mrb\n",
    "- Manual para crear modulos \"HelloPython\""
   ]
  },
  {
   "cell_type": "markdown",
   "metadata": {},
   "source": [
    "# 1: Adquisicion / Manipulacion / Generacion de datos\n"
   ]
  },
  {
   "cell_type": "code",
   "execution_count": null,
   "metadata": {},
   "outputs": [],
   "source": [
    "# Adquisicion de datos\n",
    "escena =  slicer.mrmlScene                               # Adquisicion de la escena\n",
    "volumen = escena.GetNodeByID('vtkMRMLScalarVolumeNode1') # Adquisicion del volumen de la resonancia \"grayscale\"\n",
    "imagen = volumen.GetImageData()                          # Datos que constituyen la imagen\n",
    "\n",
    "# Generacion de datos\n",
    "volumen_vacio = slicer.vtkMRMLScalarVolumeNode()         # Se crea un volumen vacio\n",
    "arreglo_numpy = [...]                                    # Se genera un arreglo de numpy\n",
    "arreglo_numy_vtk = vtk.vtkImageData(arreglo_numpy)       # El arreglo se asigna a un objeto vtkImageData\n",
    "volumen_vacio.SetAndObserveImageData(imagen)             # el objeto vtkImageData se le asigna al volumen creaado\n",
    "\n",
    "# Manipulacion de propiedades\n",
    "modelo_piel = escena.GetNodeByID('vtkMRMLModelNode12')   #ID del modelo de la piel\n",
    "Luego buscar algun metodo que permita modificar transparencia"
   ]
  },
  {
   "cell_type": "markdown",
   "metadata": {},
   "source": [
    "# 2: Manipulacion de Imagen / Matriz de datos / Matricez de Transformacion"
   ]
  },
  {
   "cell_type": "code",
   "execution_count": null,
   "metadata": {},
   "outputs": [],
   "source": [
    "# Imagen sin datos creada\n",
    "imagen_vacia = vtk.vtkImageData()             # Se crea la imagen\n",
    "imagen_vacia.SetDimensions([10,10,2])         # Se asigna un tamaño\n",
    "imagen_vacia.SetOrigin([0,0,0])               # Se asigna el origen de la imagen\n",
    "imagen_vacia.SetSpacing([0.78,0.78,1.5])      # Se asigna el espaciamiento entre puntos de la matriz / Tamaño de Voxeles\n",
    "imagen_vacia.AllocateScalars(vtk.VTK_SHORT,1) # Se determina el Tipo de datos que almacenara\n",
    "\n",
    "# Dos formas para asignarlas a un volumen vacio creado\n",
    "volumen_vacio = slicer.vtkMRMLScalarVolumeNode()    # Se crea un volumen vacio\n",
    "volumen_vacio.SetAndObserveImageData(imagen_vacia)  # Se le asigna el objeto vtkImageData() creado\n",
    "volumen_vacio.SetName('Prueba')                     # Se le asigna el nombre de prueba\n",
    "slicer.mrmlScene.AddNode(volumen_vacio)             # Se añade a la Escena como un **Nodo**\n",
    "\n",
    "# Otra forma de añadir los datos a la escena de 3D Slicer:\n",
    "escena = slicer.mrmlScene                           # Instanciar la escena previamente y usarla\n",
    "escena.mrmlScene.AddNode(volumen_vacio)             # Se añade a la Escena como un **Nodo**\n",
    "\n",
    "# Extraccion de propiedades de la imagen\n",
    "datos = imagen_vacia.GetPointData().GetScalars()"
   ]
  },
  {
   "cell_type": "code",
   "execution_count": null,
   "metadata": {},
   "outputs": [],
   "source": [
    "# Adquisicion de la imagen de una escena, instanciados en un objeto vtkMRMLScalarVolumeNode() del tipo vtk.ImageData()\n",
    "escena =  slicer.mrmlScene                               # Adquisicion de la escena\n",
    "volumen = escena.GetNodeByID('vtkMRMLScalarVolumeNode1') # Adquisicion del volumen de la resonancia \"grayscale\"\n",
    "imagen = volumen.GetImageData()                          # Datos que constituyen la imagen (objeto vtk.ImageData() )\n",
    "\n",
    "# Adquisicion de los datos de la imagen, en forma de ndarray\n",
    "datos_escalares_de_la_imagen = imagen.GetPointData().GetScalars()\n",
    "matriz_ndarray = vtk.util.numpy_support.vtk_to_numpy(datos_escalares_de_la_imagen)\n",
    "print(type(matriz_ndarray))\n",
    "print(matriz_ndarray.shape)                              # El ndarray tiene un tamaño extraño para manipular\n",
    "\n",
    "# Es posible invertir el proceso (ndarray --a--> vtk)\n",
    "matriz  = vtk.util.numpy_support.numpy_to_vtk(matriz_ndarray)\n",
    "\n",
    "# Recuperacion de las matricez de transformacion del volumen \"grayscale\"\n",
    "# Creemos las matrices vacias de ambos espacios\n",
    "ras2ijk = vtk.vtkMatrix4x4()       # Matriz para ir al espacio (i,j,k)\n",
    "ijk2ras = vtk.vtkMatrix4x4()       # Matriz para ir al espacia (RAS)\n",
    "# Al aplicar estos comandos, las matricez vacias se llenan con la matriz de transformacion de cada espacio\n",
    "volumen.GetRASToIJKMatrix(ras2ijk)\n",
    "volumen.GetIJKToRASMatrix(ijk2ras)"
   ]
  },
  {
   "cell_type": "markdown",
   "metadata": {},
   "source": [
    "# 3 vtk.reslice para remuestrear una imagen y acomodarla"
   ]
  },
  {
   "cell_type": "code",
   "execution_count": null,
   "metadata": {},
   "outputs": [],
   "source": [
    "# 1 Datos del volumen de partida\n",
    "volumen = slicer.mrmlScene.GetNodeByID('vtkMRMLScalarVolumeNode1') # Recuperamos el volumen \"grayscale\"\n",
    "imagen = volumen.GetImageData()                                    # Recuperamos la imagen del volumen \n",
    "\n",
    "ras2ijk = vtk.vtkMatrix4x4()                   # Determinemos las matrices de transformacion \n",
    "ijk2ras = vtk.vtkMatrix4x4()                   # del volumen \"grayscale\" recuperado\n",
    "volumen.GetRASToIJKMatrix(ras2ijk)\n",
    "volumen.GetIJKToRASMatrix(ijk2ras)\n",
    "\n",
    "[oX,oY,oZ] = volumen.GetOrigin()               # Recuperemos el origen del volumen para poder  \n",
    "                                               # realizar la transformacion adecuadamente (min 37:44)\n",
    "\n",
    "# 2 Generemos la matriz de transformacion\n",
    "transformacion_1 = vtk.vtkTransform()          # Matriz base de transformacion (Matriz Identidad)\n",
    "\n",
    "transformacion_1.Translate(*[-oX,-oY,-oZ])     # Se translada todo en una magnitud = -(origen de la imagen)\n",
    "\n",
    "transformacion_1.RotateX(0.5)                  # Rotacion en X\n",
    "transformacion_1.RotateY(-0.5)                 # Rotacion en Y\n",
    "\n",
    "transformacion_1.Translate(*[oX,oY,oZ])         # Regresamos a la posicion donde estaba la imagen transladando\n",
    "                                               # todo en una magnitud = (origen de la imagen)\n",
    "\n",
    "# 3 Instanciemos el objeto de clase vtkImageReslice()\n",
    "reslice = vtk.vtkImageReslice()               # Se instancia el objeto de la clase Reslice para reuestrear\n",
    "reslice.SetInputData(imagen)                  # Metodo para asociar datos de la imagen al filtro\n",
    "reslice.SetResliceTransform(transformacion_1) # Se aplica la transformacion\n",
    "reslice.InterpolateOn()                       # Calculo mediante interpolacion para evitar que falten puntos\n",
    "reslice.SetBackgroundLevel(-1024)             # Se agrega un nivel de fondo para visualizar mejor\n",
    "\n",
    "resultado_del_reslice = reslice.GetOutput()   # Se solicita la salida del filtro\n",
    "\n",
    "# 4 Se genera el volumen resultante\n",
    "volumen_resultante = slicer.vtkMRMLScalarVolumeNode()             # Se crea un volumen contenedor\n",
    "volumen_resultante.SetAndObserveImageData(resultado_del_reslice)  # Se le establece el resultado del Reslice\n",
    "\n",
    "reslice.Update()                               # Es necesario actualizar el filtro despues de cada transformacion aplicada\n",
    "\n",
    "# 5 Asignacion de matricez de transformacion\n",
    "volumen_resultante.SetRASToIJKMatrix(ras2ijk)  # Al volumen resultante se le asignan las mismas\n",
    "volumen_resultante.SetIJKToRASMatrix(ijk2ras)  # matricez de transformacion del mismo volumen de partida\n",
    "\n",
    "# 6 Asignacion del origen de coordenadas\n",
    "volumen_resultante.SetOrigin(oX,oY,oZ)         # Se asigna al volumen resultante el mismo origen del volumen de partida\n",
    "\n",
    "# 7 Adicion de transformaciones del volumen original al volumen resultante (min 47:30)\n",
    "try:\n",
    "    volumen_resultante.SetAndObserveTransformNodeID((volumen.GetParentTransformNode()).GetID())\n",
    "except:\n",
    "    pass\n",
    "\n",
    "# 8 Finalmente se añade el volumen resultante a la Escena como un \"Nodo\"\n",
    "slicer.mrmlScene.AddNode(volumen_resultante)"
   ]
  },
  {
   "cell_type": "markdown",
   "metadata": {},
   "source": [
    "# 4 Fiducials para estudios cuantitativos"
   ]
  },
  {
   "cell_type": "code",
   "execution_count": null,
   "metadata": {},
   "outputs": [],
   "source": [
    "markup = slicer.mrmlScene.GetNodeByID(\"vtkMRMLMarkupsFiducialNode1\") # Recuperamos 1 fiducial\n",
    "ras = [0,0,0]                                # Aqui almacenaremos las ubicaciones en RAS de los fiducials creados\n",
    "numFids = markup.GetNumberOfFiducials()      # Permite saber cuantos fiducials se han puesto\n",
    "\n",
    "for i in range(numFids):                     # Recorremos los fiducials creados\n",
    "    markup.GetNthFiducialPosition(i, ras)    # y almacenamos sus posicions en el vector ras\n",
    "    print str(ras)"
   ]
  },
  {
   "cell_type": "markdown",
   "metadata": {},
   "source": [
    "# 5 Ejemplo de Graficas"
   ]
  },
  {
   "cell_type": "code",
   "execution_count": null,
   "metadata": {},
   "outputs": [],
   "source": [
    "import numpy as np;\n",
    "\n",
    "numero_frames = 100;                  # Simula la cantidad de volumenes de un estudio 4D\n",
    "dato = np.zeros((100,2));             # Matriz de ceros para rellenar\n",
    "\n",
    "for i in range(numero_frames):\n",
    "    dato[i,0] = i                     # Datos del eje X\n",
    "    dato[i,1] = i**2;                 # Datos del eje Y\n",
    "    \n",
    "    chartNode = slicer.util.plot(dato, xColumnIndex=0, columnNames=['X', 'X^2'])\n",
    "    chartNode.SetXAxisTitle('X')\n",
    "    chartNode.SetYAxisTitle('Y')\n",
    "    chartNode.LegendVisibilityOff()\n",
    "    chartNode.SetTitle('Grafica de Intensidad')"
   ]
  },
  {
   "cell_type": "markdown",
   "metadata": {},
   "source": [
    "# Parte 6: Identificar parametros de un modulo y ejecutarlo"
   ]
  },
  {
   "cell_type": "code",
   "execution_count": null,
   "metadata": {},
   "outputs": [],
   "source": [
    "# Este script permite identificar los parametros que presenta algun modulo\n",
    "cliModule = slicer.modules.gradientanisotropicdiffusion # Probemos con el gradientanisotropicdiffusion\n",
    "n = cliModule.cliModuleLogic().CreateNode()\n",
    "for groupIndex in range(n.GetNumberOfParameterGroups()):\n",
    "    for parameterIndex in range(n.GetNumberOfParametersInGroup(groupIndex)):  \n",
    "        print('Parameter ({0}/{1}): {2} ({3})'.format(groupIndex, parameterIndex, n.GetParameterName(groupIndex, parameterIndex), n.GetParameterLabel(groupIndex, parameterIndex)))\n",
    "\n",
    "# Se especifican los volumenes que interactuan\n",
    "volumen_entrada = slicer.mrmlScene.GetNodeByID('vtkMRMLScalarVolumeNode1')\n",
    "volumen_salida = slicer.vtkMRMLScalarVolumeNode()\n",
    "slicer.mrmlScene.AddNode(volumen_salida)\n",
    "\n",
    "# Parametros para la operacion de registro\n",
    "parameters = {}\n",
    "parameters['conductance'] = 1.0 \n",
    "parameters['numberOfIterations'] = 10\n",
    "parameters['timeStep'] = 0.05\n",
    "parameters['inputVolume'] = volumen_entrada.GetID()\n",
    "parameters['outputVolume'] = volumen_salida.GetID()\n",
    "\n",
    "# Se invoca el modulo de interes y se ejecuta\n",
    "cliModule = slicer.modules.gradientanisotropicdiffusion\n",
    "cliNode = slicer.cli.run(cliModule,None,parameters,wait_for_completion=True)"
   ]
  }
 ],
 "metadata": {
  "kernelspec": {
   "display_name": "Python 3",
   "language": "python",
   "name": "python3"
  },
  "language_info": {
   "codemirror_mode": {
    "name": "ipython",
    "version": 3
   },
   "file_extension": ".py",
   "mimetype": "text/x-python",
   "name": "python",
   "nbconvert_exporter": "python",
   "pygments_lexer": "ipython3",
   "version": "3.7.6"
  }
 },
 "nbformat": 4,
 "nbformat_minor": 4
}
