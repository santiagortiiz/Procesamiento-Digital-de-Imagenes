{
 "cells": [
  {
   "cell_type": "markdown",
   "metadata": {},
   "source": [
    "# Clase 20/10/20 - Video 14\n",
    "\n",
    "# Script para la obtención de Intensidad en un Punto marcado por Fiducial en un estudio 4D"
   ]
  },
  {
   "cell_type": "markdown",
   "metadata": {},
   "source": [
    "### Obtencio de las coordenadas de los Fiducials existentes"
   ]
  },
  {
   "cell_type": "code",
   "execution_count": null,
   "metadata": {},
   "outputs": [],
   "source": [
    "markup = slicer.mrmlScene.GetNodeByID(\"vtkMRMLMarkupsFiducialNode1\") # Recuperamos 1 fiducial\n",
    "ras = [0,0,0]                                # Aqui almacenaremos las ubicaciones en RAS de los fiducials creados\n",
    "numFids = markup.GetNumberOfFiducials()      # Permite saber cuantos fiducials se han puesto\n",
    "\n",
    "for i in range(numFids):                     # Recorremos los fiducials creados\n",
    "    markup.GetNthFiducialPosition(i, ras)    # y almacenamos sus posicions en el vector ras\n",
    "    print str(ras)"
   ]
  },
  {
   "cell_type": "markdown",
   "metadata": {},
   "source": [
    "Si se tienen las matrices del volumen, es posible recuperar las coordenadas de un fiducial respecto al volumen, de forma que si se desea ver la intensidad de un punto se puede ir a buscar a la matriz.\n",
    "\n",
    "Recordemos que la matriz tiene coordenadas (i,j,k) "
   ]
  },
  {
   "cell_type": "markdown",
   "metadata": {},
   "source": [
    "### Por lo tanto, iniciemos definiendo las matrices de transformacion de espacio"
   ]
  },
  {
   "cell_type": "code",
   "execution_count": null,
   "metadata": {},
   "outputs": [],
   "source": [
    "escena = slicer.mrmlScene;\n",
    "volumen4D = escena.GetNodeByID('vtkMRMLMultiVolumeNode1')       # Se adquiere el Multi-volumen de la escena\n",
    "#matrices de transformacion\n",
    "ras2ijk = vtk.vtkMatrix4x4()            # Matrices vacias\n",
    "ijk2ras = vtk.vtkMatrix4x4()\n",
    "volumen4D.GetRASToIJKMatrix(ras2ijk)    # Rellenado de matrices con las del volumen original\n",
    "volumen4D.GetIJKToRASMatrix(ijk2ras)"
   ]
  },
  {
   "cell_type": "markdown",
   "metadata": {},
   "source": []
  },
  {
   "cell_type": "code",
   "execution_count": null,
   "metadata": {},
   "outputs": [],
   "source": [
    "#Multiply a homogeneous coordinate by this matrix MultiplyPoint\n",
    "cantidad_de_fiducials_existentes = markup.GetNumberOfFiducials()  \n",
    "\n",
    "for fiducial in range(cantidad_de_fiducials_existentes):\n",
    "    coordenadas_tipo_ras = [0,0,0,0]\n",
    "    markup.GetNthFiducialWorldCoordinates(fiducial,coordenadas_tipo_ras) # Obtengo las coordenadas RAS de cada fiducial\n",
    "    ijk = [0,0,0,0]                                 # Aqui se almacenarán las coordenadas (i,j,k) resultantes\n",
    "    ras2ijk.MultiplyPoint(coordenadas_tipo_ras,ijk) # Aplica la matriz de transformacion para obtener coordenadas (i,j,k)\n",
    "    print(str(ijk))                                 # Este resultado es la Posicion en la MATRIZ \n",
    "                                                    # en la que se encuentra el Fiducial\n",
    "                                                    # Y DEBE REDONDEARSE"
   ]
  },
  {
   "cell_type": "markdown",
   "metadata": {},
   "source": [
    "### Ahora extraigamos un volumen y solicitamos la intensidad en la posicion resultante en la Matriz (i,j,k), que hace referencia a (x, y, z, coordenada_homogenea)"
   ]
  },
  {
   "cell_type": "raw",
   "metadata": {},
   "source": [
    "extract1 = vtk.vtkImageExtractComponents()\n",
    "extract1.SetInputData(imagenvtk4D)\n",
    "imagen_de_interes = extract1.SetComponents(0)\n",
    "extract1.Update()\n",
    "matriz_de_la_imagen = extract1.GetOutput()\n",
    "matriz_de_la_imagen.GetScalarComponentAsDouble(int(ijk[0]), int(ijk[1]), int(ijk[2]), 0)"
   ]
  },
  {
   "cell_type": "markdown",
   "metadata": {},
   "source": [
    "### El resultado obtenido es la intensidad en un rango de datos que puede ser representado con Bits"
   ]
  }
 ],
 "metadata": {
  "kernelspec": {
   "display_name": "Python 3",
   "language": "python",
   "name": "python3"
  },
  "language_info": {
   "codemirror_mode": {
    "name": "ipython",
    "version": 3
   },
   "file_extension": ".py",
   "mimetype": "text/x-python",
   "name": "python",
   "nbconvert_exporter": "python",
   "pygments_lexer": "ipython3",
   "version": "3.7.6"
  }
 },
 "nbformat": 4,
 "nbformat_minor": 4
}
